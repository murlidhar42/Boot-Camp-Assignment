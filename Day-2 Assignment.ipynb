{
 "cells": [
  {
   "cell_type": "markdown",
   "id": "26aee431",
   "metadata": {},
   "source": [
    "# Murlidhar Meena\n",
    "# SID-91580"
   ]
  },
  {
   "cell_type": "markdown",
   "id": "b7c47385",
   "metadata": {},
   "source": [
    "# 1. Given a list of integers, remove all occurrences of a specific value using a list method. "
   ]
  },
  {
   "cell_type": "code",
   "execution_count": 1,
   "id": "708aa431",
   "metadata": {},
   "outputs": [
    {
     "name": "stdout",
     "output_type": "stream",
     "text": [
      "[1, 3, 4, 5]\n"
     ]
    }
   ],
   "source": [
    "numbers = [1, 2, 3, 4, 2, 2, 5]\n",
    "value_to_remove = 2\n",
    "numbers = [num for num in numbers if num != value_to_remove]\n",
    "print(numbers)  \n"
   ]
  },
  {
   "cell_type": "markdown",
   "id": "16172d0c",
   "metadata": {},
   "source": [
    "# 2. Concatenate a list of strings into a single string, with each element separated by a space, using a list method"
   ]
  },
  {
   "cell_type": "code",
   "execution_count": 2,
   "id": "e4ca63b0",
   "metadata": {},
   "outputs": [
    {
     "name": "stdout",
     "output_type": "stream",
     "text": [
      "hello world python\n"
     ]
    }
   ],
   "source": [
    "strings = [\"hello\", \"world\", \"python\"]\n",
    "result = \" \".join(strings)\n",
    "print(result)  \n"
   ]
  },
  {
   "cell_type": "markdown",
   "id": "b3bb7d4f",
   "metadata": {},
   "source": [
    "# 3. Reverse a list of integers using a built-in list method."
   ]
  },
  {
   "cell_type": "code",
   "execution_count": 3,
   "id": "b96561da",
   "metadata": {},
   "outputs": [
    {
     "name": "stdout",
     "output_type": "stream",
     "text": [
      "[5, 4, 3, 2, 1]\n"
     ]
    }
   ],
   "source": [
    "numbers = [1, 2, 3, 4, 5]\n",
    "numbers.reverse()\n",
    "print(numbers)  \n"
   ]
  },
  {
   "cell_type": "markdown",
   "id": "129f3b7e",
   "metadata": {},
   "source": [
    "# 4. Sort a list of numbers in descending order using a built-in list method."
   ]
  },
  {
   "cell_type": "code",
   "execution_count": 4,
   "id": "a3dddf93",
   "metadata": {},
   "outputs": [
    {
     "name": "stdout",
     "output_type": "stream",
     "text": [
      "[9, 5, 4, 2, 1]\n"
     ]
    }
   ],
   "source": [
    "numbers = [4, 2, 9, 1, 5]\n",
    "numbers.sort(reverse=True)\n",
    "print(numbers)  \n"
   ]
  },
  {
   "cell_type": "markdown",
   "id": "e3213684",
   "metadata": {},
   "source": [
    "# 5. Given two lists, combine them into a single list and remove any duplicate elements using a list method."
   ]
  },
  {
   "cell_type": "code",
   "execution_count": 5,
   "id": "7e5104f0",
   "metadata": {},
   "outputs": [
    {
     "name": "stdout",
     "output_type": "stream",
     "text": [
      "[1, 2, 3, 4, 5]\n"
     ]
    }
   ],
   "source": [
    "list1 = [1, 2, 3]\n",
    "list2 = [3, 4, 5]\n",
    "combined = list(set(list1 + list2))\n",
    "print(combined)  \n"
   ]
  },
  {
   "cell_type": "markdown",
   "id": "85776d0c",
   "metadata": {},
   "source": [
    "# 6. Convert a tuple of integers into a list and remove the first and last elements using a tuple method."
   ]
  },
  {
   "cell_type": "code",
   "execution_count": 6,
   "id": "424b1f7d",
   "metadata": {},
   "outputs": [
    {
     "name": "stdout",
     "output_type": "stream",
     "text": [
      "[20, 30, 40]\n"
     ]
    }
   ],
   "source": [
    "numbers_tuple = (10, 20, 30, 40, 50)\n",
    "numbers_list = list(numbers_tuple)\n",
    "modified_list = numbers_list[1:-1]\n",
    "print(modified_list)  \n"
   ]
  },
  {
   "cell_type": "markdown",
   "id": "35470cfe",
   "metadata": {},
   "source": [
    "# 7. Given a list of tuples, extract all the first elements of each tuple into a separate list using tuple unpacking."
   ]
  },
  {
   "cell_type": "code",
   "execution_count": 7,
   "id": "ea9cc28c",
   "metadata": {},
   "outputs": [
    {
     "name": "stdout",
     "output_type": "stream",
     "text": [
      "[1, 2, 3]\n"
     ]
    }
   ],
   "source": [
    "tuples = [(1, 'a'), (2, 'b'), (3, 'c')]\n",
    "first_elements = [x for x, _ in tuples]\n",
    "print(first_elements)  \n"
   ]
  },
  {
   "cell_type": "markdown",
   "id": "80575b5f",
   "metadata": {},
   "source": [
    "# 8. Combine two tuples into a single tuple."
   ]
  },
  {
   "cell_type": "code",
   "execution_count": 8,
   "id": "ccd09331",
   "metadata": {},
   "outputs": [
    {
     "name": "stdout",
     "output_type": "stream",
     "text": [
      "(1, 2, 3, 4, 5, 6)\n"
     ]
    }
   ],
   "source": [
    "tuple1 = (1, 2, 3)\n",
    "tuple2 = (4, 5, 6)\n",
    "combined_tuple = tuple1 + tuple2\n",
    "print(combined_tuple)  \n"
   ]
  },
  {
   "cell_type": "markdown",
   "id": "d8b84448",
   "metadata": {},
   "source": [
    "# 9.\tFind the maximum and minimum values in a tuple of numbers using tuple methods."
   ]
  },
  {
   "cell_type": "code",
   "execution_count": 9,
   "id": "c8be5651",
   "metadata": {},
   "outputs": [
    {
     "name": "stdout",
     "output_type": "stream",
     "text": [
      "9\n",
      "1\n"
     ]
    }
   ],
   "source": [
    "numbers_tuple = (3, 8, 1, 6, 9)\n",
    "max_value = max(numbers_tuple)\n",
    "min_value = min(numbers_tuple)\n",
    "print(max_value)  \n",
    "print(min_value)  \n"
   ]
  },
  {
   "cell_type": "markdown",
   "id": "14c7b4f9",
   "metadata": {},
   "source": [
    "# 10.\tConvert a tuple of strings into a single string, with each element separated by a comma, using tuple methods."
   ]
  },
  {
   "cell_type": "code",
   "execution_count": 10,
   "id": "534f362f",
   "metadata": {},
   "outputs": [
    {
     "name": "stdout",
     "output_type": "stream",
     "text": [
      "apple, banana, cherry\n"
     ]
    }
   ],
   "source": [
    "strings_tuple = (\"apple\", \"banana\", \"cherry\")\n",
    "result = \", \".join(strings_tuple)\n",
    "print(result)  \n"
   ]
  },
  {
   "cell_type": "markdown",
   "id": "0b7506ec",
   "metadata": {},
   "source": [
    "# 11.\tGiven two sets, return the union of the two sets using a set operation."
   ]
  },
  {
   "cell_type": "code",
   "execution_count": 11,
   "id": "73273f3c",
   "metadata": {},
   "outputs": [
    {
     "name": "stdout",
     "output_type": "stream",
     "text": [
      "{1, 2, 3, 4, 5}\n"
     ]
    }
   ],
   "source": [
    "set1 = {1, 2, 3}\n",
    "set2 = {3, 4, 5}\n",
    "union_set = set1.union(set2)\n",
    "print(union_set)  \n"
   ]
  },
  {
   "cell_type": "markdown",
   "id": "b90b4441",
   "metadata": {},
   "source": [
    "# 12.\tFind the intersection of two sets using a set method."
   ]
  },
  {
   "cell_type": "code",
   "execution_count": 13,
   "id": "d3075b1d",
   "metadata": {},
   "outputs": [
    {
     "name": "stdout",
     "output_type": "stream",
     "text": [
      "{2, 3}\n"
     ]
    }
   ],
   "source": [
    "set1 = {1, 2, 3}\n",
    "set2 = {2, 3, 4}\n",
    "intersection_set = set1.intersection(set2)\n",
    "print(intersection_set)  \n"
   ]
  },
  {
   "cell_type": "markdown",
   "id": "c5c0d531",
   "metadata": {},
   "source": [
    "# 13.\tRemove all elements from one set that are also present in another set using a set method."
   ]
  },
  {
   "cell_type": "code",
   "execution_count": 14,
   "id": "977274d5",
   "metadata": {},
   "outputs": [
    {
     "name": "stdout",
     "output_type": "stream",
     "text": [
      "{1, 2}\n"
     ]
    }
   ],
   "source": [
    "set1 = {1, 2, 3, 4}\n",
    "set2 = {3, 4, 5, 6}\n",
    "set1.difference_update(set2)\n",
    "print(set1)  \n"
   ]
  },
  {
   "cell_type": "markdown",
   "id": "4bcdb7c3",
   "metadata": {},
   "source": [
    "# 14.\tFind the difference between two sets using a set method."
   ]
  },
  {
   "cell_type": "code",
   "execution_count": 15,
   "id": "36b71fbc",
   "metadata": {},
   "outputs": [
    {
     "name": "stdout",
     "output_type": "stream",
     "text": [
      "{1, 2}\n"
     ]
    }
   ],
   "source": [
    "set1 = {1, 2, 3, 4}\n",
    "set2 = {3, 4, 5, 6}\n",
    "difference_set = set1.difference(set2)\n",
    "print(difference_set)  \n"
   ]
  },
  {
   "cell_type": "markdown",
   "id": "165cc6df",
   "metadata": {},
   "source": [
    "# 15.\tConvert a list of integers into a set and then back to a list to remove duplicates, using set operations."
   ]
  },
  {
   "cell_type": "code",
   "execution_count": 16,
   "id": "7e4b06cc",
   "metadata": {},
   "outputs": [
    {
     "name": "stdout",
     "output_type": "stream",
     "text": [
      "[1, 2, 3, 4, 5]\n"
     ]
    }
   ],
   "source": [
    "numbers = [1, 2, 2, 3, 4, 4, 5]\n",
    "numbers_set = set(numbers)\n",
    "unique_numbers = list(numbers_set)\n",
    "print(unique_numbers)  \n"
   ]
  },
  {
   "cell_type": "markdown",
   "id": "74c01bbf",
   "metadata": {},
   "source": [
    "# 16.\tMerge two dictionaries into a single dictionary using a dictionary method."
   ]
  },
  {
   "cell_type": "code",
   "execution_count": 17,
   "id": "a7e85862",
   "metadata": {},
   "outputs": [
    {
     "name": "stdout",
     "output_type": "stream",
     "text": [
      "{'a': 1, 'b': 3, 'c': 4}\n"
     ]
    }
   ],
   "source": [
    "dict1 = {'a': 1, 'b': 2}\n",
    "dict2 = {'b': 3, 'c': 4}\n",
    "merged_dict = {**dict1, **dict2}  \n",
    "print(merged_dict)  \n"
   ]
  },
  {
   "cell_type": "markdown",
   "id": "20887e35",
   "metadata": {},
   "source": [
    "# 17.\tExtract all values from a dictionary into a list using a dictionary method."
   ]
  },
  {
   "cell_type": "code",
   "execution_count": 18,
   "id": "024f1aed",
   "metadata": {},
   "outputs": [
    {
     "name": "stdout",
     "output_type": "stream",
     "text": [
      "[1, 2, 3]\n"
     ]
    }
   ],
   "source": [
    "my_dict = {'a': 1, 'b': 2, 'c': 3}\n",
    "values_list = list(my_dict.values())\n",
    "print(values_list)  \n"
   ]
  },
  {
   "cell_type": "code",
   "execution_count": null,
   "id": "2cbbe9cf",
   "metadata": {},
   "outputs": [],
   "source": []
  }
 ],
 "metadata": {
  "kernelspec": {
   "display_name": "Python 3 (ipykernel)",
   "language": "python",
   "name": "python3"
  },
  "language_info": {
   "codemirror_mode": {
    "name": "ipython",
    "version": 3
   },
   "file_extension": ".py",
   "mimetype": "text/x-python",
   "name": "python",
   "nbconvert_exporter": "python",
   "pygments_lexer": "ipython3",
   "version": "3.9.12"
  }
 },
 "nbformat": 4,
 "nbformat_minor": 5
}
